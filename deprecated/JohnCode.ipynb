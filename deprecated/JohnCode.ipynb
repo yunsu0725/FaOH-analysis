{
 "cells": [
  {
   "cell_type": "code",
   "execution_count": 1,
   "metadata": {},
   "outputs": [],
   "source": [
    "from sys import argv\n",
    "#import openpyxl\n",
    "import xlsxwriter\n",
    "import os"
   ]
  },
  {
   "cell_type": "code",
   "execution_count": 2,
   "metadata": {},
   "outputs": [],
   "source": [
    "rootdir ='/Users/Claire/Desktop/UW-madison/lab/2022/RBOx in vivo/20220507 trc-tet RBS library test'\n",
    "row = 0\n",
    "# Create a workbook and add a worksheet.\n",
    "filename = 'GCFID-trc-tet-RBS-library-May2022.xlsx'\n",
    "workbook = xlsxwriter.Workbook(filename)\n",
    "worksheet = workbook.add_worksheet('John_Code')"
   ]
  },
  {
   "cell_type": "code",
   "execution_count": 3,
   "metadata": {},
   "outputs": [],
   "source": [
    "def ExcelWrite(file,row):\n",
    "    in_file = open(file)\n",
    "\n",
    "    col = 0\n",
    "    flag=False\n",
    "    for line in in_file:\n",
    "        columns=line.split()\n",
    "        if len(columns)==3 or len(columns)==4:\n",
    "            if columns[0]=='Sample' and columns[1]=='Name':\n",
    "                if len(columns)<4:\n",
    "                    worksheet.write(row, col, columns[2])\n",
    "                else:\n",
    "                    worksheet.write(row, col, columns[2]+columns[3])\n",
    "\n",
    "\n",
    "        if len(columns)>1:\n",
    "            if columns[0]=='Peak#':\n",
    "                flag=True\n",
    "\n",
    "        if flag==True:\n",
    "            if len(columns)>1:\n",
    "                row = row+1\n",
    "                #print(line)\n",
    "                for col in range(6):\n",
    "                    try:\n",
    "                        worksheet.write(row, col, float(columns[col]))\n",
    "                    except ValueError:\n",
    "                        worksheet.write(row, col, columns[col])\n",
    "            else:\n",
    "                break\n",
    "\n",
    "\n",
    "    return row+2\n",
    "\n",
    "for subdir, dirs, files in os.walk(rootdir):\n",
    "    for file in files:\n",
    "        x = file.split('.')\n",
    "        if x[1].upper() == 'TXT':\n",
    "            row=ExcelWrite(file,row)\n",
    "\n",
    "workbook.close()"
   ]
  },
  {
   "cell_type": "code",
   "execution_count": null,
   "metadata": {},
   "outputs": [],
   "source": []
  },
  {
   "cell_type": "code",
   "execution_count": null,
   "metadata": {},
   "outputs": [],
   "source": []
  }
 ],
 "metadata": {
  "kernelspec": {
   "display_name": "Python 3",
   "language": "python",
   "name": "python3"
  },
  "language_info": {
   "codemirror_mode": {
    "name": "ipython",
    "version": 3
   },
   "file_extension": ".py",
   "mimetype": "text/x-python",
   "name": "python",
   "nbconvert_exporter": "python",
   "pygments_lexer": "ipython3",
   "version": "3.8.5"
  }
 },
 "nbformat": 4,
 "nbformat_minor": 2
}
